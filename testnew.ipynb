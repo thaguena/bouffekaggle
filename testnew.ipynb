{
 "cells": [
  {
   "cell_type": "markdown",
   "metadata": {},
   "source": [
    "# Import the required libraries "
   ]
  },
  {
   "cell_type": "code",
   "execution_count": 1,
   "metadata": {
    "scrolled": true
   },
   "outputs": [],
   "source": [
    "from sklearn.feature_extraction.text import TfidfVectorizer\n",
    "from sklearn.multiclass import OneVsRestClassifier\n",
    "from sklearn.preprocessing import LabelEncoder\n",
    "from sklearn.model_selection import GridSearchCV\n",
    "from sklearn.model_selection import RandomizedSearchCV\n",
    "from sklearn.svm import SVC\n",
    "import unidecode\n",
    "import matplotlib.pyplot as plt\n",
    "%matplotlib inline\n",
    "import pandas as pd\n",
    "import json\n",
    "import re\n",
    "import numpy as np\n",
    "from collections import defaultdict\n",
    "import nltk\n",
    "from nltk.stem import WordNetLemmatizer\n",
    "from sklearn.ensemble import GradientBoostingClassifier\n",
    "from sklearn.linear_model import LogisticRegression, SGDClassifier\n",
    "from sklearn.metrics import accuracy_score, classification_report\n",
    "from sklearn.model_selection import cross_validate\n",
    "from sklearn.neural_network import MLPClassifier\n",
    "from sklearn.svm import SVC\n",
    "from sklearn.pipeline import make_pipeline, make_union\n",
    "from sklearn.preprocessing import FunctionTransformer, LabelEncoder\n",
    "from tqdm import tqdm\n",
    "from scipy.stats import uniform\n",
    "tqdm.pandas()"
   ]
  },
  {
   "cell_type": "markdown",
   "metadata": {},
   "source": [
    "# Dataset Preparation"
   ]
  },
  {
   "cell_type": "code",
   "execution_count": 2,
   "metadata": {
    "scrolled": true
   },
   "outputs": [
    {
     "name": "stdout",
     "output_type": "stream",
     "text": [
      "Read Dataset ... \n"
     ]
    }
   ],
   "source": [
    "print (\"Read Dataset ... \")\n",
    "def read_dataset(path):\n",
    "    return json.load(open(path)) \n",
    "\n",
    "train1 = read_dataset('C:/Users/Tim/Desktop/tensorflow/bouffekaggle/all/train.json')\n",
    "test1 = read_dataset('C:/Users/Tim/Desktop/tensorflow/bouffekaggle/all/test.json')\n",
    "\n",
    "train = pd.read_json('C:/Users/Tim/Desktop/tensorflow/bouffekaggle/all/train.json')\n",
    "test = pd.read_json('C:/Users/Tim/Desktop/tensorflow/bouffekaggle/all/test.json')"
   ]
  },
  {
   "cell_type": "markdown",
   "metadata": {},
   "source": [
    "# Text Data Features"
   ]
  },
  {
   "cell_type": "code",
   "execution_count": 3,
   "metadata": {
    "scrolled": true
   },
   "outputs": [
    {
     "name": "stdout",
     "output_type": "stream",
     "text": [
      "Prepare text data of Train and Test ... \n"
     ]
    },
    {
     "name": "stderr",
     "output_type": "stream",
     "text": [
      "100%|██████████| 39774/39774 [00:06<00:00, 6399.81it/s]\n",
      "100%|██████████| 9944/9944 [00:01<00:00, 8815.76it/s]\n"
     ]
    }
   ],
   "source": [
    "print (\"Prepare text data of Train and Test ... \")\n",
    "lemmatizer = WordNetLemmatizer()\n",
    "def preprocess(ingredients):\n",
    "    ingredients_text = ' '.join(ingredients)\n",
    "    ingredients_text = ingredients_text.lower()\n",
    "    ingredients_text = ingredients_text.replace('-', ' ')\n",
    "    words = []\n",
    "    for word in ingredients_text.split():\n",
    "        if re.findall('[0-9]', word): continue\n",
    "        if len(word) <= 2: continue\n",
    "        if '’' in word: continue\n",
    "        word = lemmatizer.lemmatize(word)\n",
    "        if len(word) > 0: words.append(word)\n",
    "    return ' '.join(words)\n",
    "    \n",
    "    \n",
    "train['x'] = train['ingredients'].progress_apply(lambda ingredients: preprocess(ingredients))\n",
    "test['x'] = test['ingredients'].progress_apply(lambda ingredients: preprocess(ingredients))\n",
    "\n",
    "def generate_text(data):\n",
    "    text_data = [\" \".join(doc['ingredients']).lower() for doc in data]\n",
    "    return text_data \n",
    "\n",
    "train_text = train['x']\n",
    "test_text = test['x']\n",
    "\n",
    "target = [doc['cuisine'] for doc in train1]"
   ]
  },
  {
   "cell_type": "markdown",
   "metadata": {},
   "source": [
    "# Feature Engineering "
   ]
  },
  {
   "cell_type": "code",
   "execution_count": 4,
   "metadata": {
    "scrolled": true
   },
   "outputs": [
    {
     "name": "stdout",
     "output_type": "stream",
     "text": [
      "TF-IDF on text data ... \n"
     ]
    }
   ],
   "source": [
    "print (\"TF-IDF on text data ... \")\n",
    "tfidf = TfidfVectorizer(binary=True)\n",
    "def tfidf_features(txt, flag):\n",
    "    if flag == \"train\":\n",
    "        x = tfidf.fit_transform(txt)\n",
    "    else:\n",
    "        x = tfidf.transform(txt)\n",
    "    x = x.astype('float16')\n",
    "    return x \n",
    "X = tfidf_features(train_text, flag=\"train\")\n",
    "X_test = tfidf_features(test_text, flag=\"test\")"
   ]
  },
  {
   "cell_type": "markdown",
   "metadata": {},
   "source": [
    "# Label Encoding - Target "
   ]
  },
  {
   "cell_type": "code",
   "execution_count": 5,
   "metadata": {
    "scrolled": true
   },
   "outputs": [
    {
     "name": "stdout",
     "output_type": "stream",
     "text": [
      "Label Encode the Target Variable ... \n"
     ]
    }
   ],
   "source": [
    "print (\"Label Encode the Target Variable ... \")\n",
    "lb = LabelEncoder()\n",
    "y = lb.fit_transform(target)"
   ]
  },
  {
   "cell_type": "markdown",
   "metadata": {},
   "source": [
    "# Model Training "
   ]
  },
  {
   "cell_type": "code",
   "execution_count": 6,
   "metadata": {
    "scrolled": true
   },
   "outputs": [],
   "source": [
    "classifier = SVC(C=10, # penalty parameter\n",
    "                 kernel='rbf', # kernel type, rbf working fine here\n",
    "                 degree=3, # default value\n",
    "                 gamma=1, # kernel coefficient\n",
    "                 coef0=1, # change to 1 from default value of 0.0\n",
    "                 shrinking=True, # using shrinking heuristics\n",
    "                 tol=0.001, # stopping criterion tolerance \n",
    "                 probability=False, # no need to enable probability estimates\n",
    "                 cache_size=200, # 200 MB cache size\n",
    "                 class_weight=None, # all classes are treated equally \n",
    "                 verbose=False, # print the logs \n",
    "                 max_iter=-1, # no limit, let it run\n",
    "                 decision_function_shape=None, # will use one vs rest explicitly \n",
    "                 random_state=None)\n",
    "model = OneVsRestClassifier(classifier, n_jobs=1)"
   ]
  },
  {
   "cell_type": "markdown",
   "metadata": {},
   "source": [
    "# Model Tuning "
   ]
  },
  {
   "cell_type": "code",
   "execution_count": null,
   "metadata": {},
   "outputs": [],
   "source": [
    "parameters = {\"estimator__C\":[1, 10, 50, 100, 200, 500 ]}\n",
    "grid_search = GridSearchCV(model, param_grid=parameters)"
   ]
  },
  {
   "cell_type": "code",
   "execution_count": null,
   "metadata": {},
   "outputs": [],
   "source": [
    "%%time\n",
    "grid_search.fit(X, y)"
   ]
  },
  {
   "cell_type": "code",
   "execution_count": 7,
   "metadata": {},
   "outputs": [],
   "source": [
    "parameters = {\"estimator__C\":uniform(5,100),\"estimator__gamma\":uniform(.5,1.5)}\n",
    "rdgrid_search = RandomizedSearchCV(model, parameters,n_iter=20, n_jobs=-1)"
   ]
  },
  {
   "cell_type": "code",
   "execution_count": 8,
   "metadata": {},
   "outputs": [
    {
     "name": "stdout",
     "output_type": "stream",
     "text": [
      "Wall time: 9h 51min 49s\n"
     ]
    },
    {
     "data": {
      "text/plain": [
       "RandomizedSearchCV(cv=None, error_score='raise',\n",
       "          estimator=OneVsRestClassifier(estimator=SVC(C=10, cache_size=200, class_weight=None, coef0=1,\n",
       "  decision_function_shape=None, degree=3, gamma=1, kernel='rbf',\n",
       "  max_iter=-1, probability=False, random_state=None, shrinking=True,\n",
       "  tol=0.001, verbose=False),\n",
       "          n_jobs=1),\n",
       "          fit_params=None, iid=True, n_iter=20, n_jobs=-1,\n",
       "          param_distributions={'estimator__C': <scipy.stats._distn_infrastructure.rv_frozen object at 0x000001D403DEC780>, 'estimator__gamma': <scipy.stats._distn_infrastructure.rv_frozen object at 0x000001D403DF8518>},\n",
       "          pre_dispatch='2*n_jobs', random_state=None, refit=True,\n",
       "          return_train_score='warn', scoring=None, verbose=0)"
      ]
     },
     "execution_count": 8,
     "metadata": {},
     "output_type": "execute_result"
    }
   ],
   "source": [
    "%%time\n",
    "rdgrid_search.fit(X,y)"
   ]
  },
  {
   "cell_type": "code",
   "execution_count": 9,
   "metadata": {},
   "outputs": [
    {
     "name": "stderr",
     "output_type": "stream",
     "text": [
      "C:\\Users\\Tim\\Anaconda3\\lib\\site-packages\\sklearn\\utils\\deprecation.py:122: FutureWarning: You are accessing a training score ('split0_train_score'), which will not be available by default any more in 0.21. If you need training scores, please set return_train_score=True\n",
      "  warnings.warn(*warn_args, **warn_kwargs)\n",
      "C:\\Users\\Tim\\Anaconda3\\lib\\site-packages\\sklearn\\utils\\deprecation.py:122: FutureWarning: You are accessing a training score ('split1_train_score'), which will not be available by default any more in 0.21. If you need training scores, please set return_train_score=True\n",
      "  warnings.warn(*warn_args, **warn_kwargs)\n",
      "C:\\Users\\Tim\\Anaconda3\\lib\\site-packages\\sklearn\\utils\\deprecation.py:122: FutureWarning: You are accessing a training score ('split2_train_score'), which will not be available by default any more in 0.21. If you need training scores, please set return_train_score=True\n",
      "  warnings.warn(*warn_args, **warn_kwargs)\n",
      "C:\\Users\\Tim\\Anaconda3\\lib\\site-packages\\sklearn\\utils\\deprecation.py:122: FutureWarning: You are accessing a training score ('mean_train_score'), which will not be available by default any more in 0.21. If you need training scores, please set return_train_score=True\n",
      "  warnings.warn(*warn_args, **warn_kwargs)\n",
      "C:\\Users\\Tim\\Anaconda3\\lib\\site-packages\\sklearn\\utils\\deprecation.py:122: FutureWarning: You are accessing a training score ('std_train_score'), which will not be available by default any more in 0.21. If you need training scores, please set return_train_score=True\n",
      "  warnings.warn(*warn_args, **warn_kwargs)\n"
     ]
    },
    {
     "data": {
      "text/html": [
       "<div>\n",
       "<style scoped>\n",
       "    .dataframe tbody tr th:only-of-type {\n",
       "        vertical-align: middle;\n",
       "    }\n",
       "\n",
       "    .dataframe tbody tr th {\n",
       "        vertical-align: top;\n",
       "    }\n",
       "\n",
       "    .dataframe thead th {\n",
       "        text-align: right;\n",
       "    }\n",
       "</style>\n",
       "<table border=\"1\" class=\"dataframe\">\n",
       "  <thead>\n",
       "    <tr style=\"text-align: right;\">\n",
       "      <th></th>\n",
       "      <th>mean_test_score</th>\n",
       "      <th>std_test_score</th>\n",
       "      <th>params</th>\n",
       "    </tr>\n",
       "  </thead>\n",
       "  <tbody>\n",
       "    <tr>\n",
       "      <th>0</th>\n",
       "      <td>0.812893</td>\n",
       "      <td>0.001436</td>\n",
       "      <td>{'estimator__C': 87.8869082415457, 'estimator_...</td>\n",
       "    </tr>\n",
       "    <tr>\n",
       "      <th>1</th>\n",
       "      <td>0.812365</td>\n",
       "      <td>0.001307</td>\n",
       "      <td>{'estimator__C': 79.63970410647498, 'estimator...</td>\n",
       "    </tr>\n",
       "    <tr>\n",
       "      <th>2</th>\n",
       "      <td>0.812365</td>\n",
       "      <td>0.001671</td>\n",
       "      <td>{'estimator__C': 14.795878848663708, 'estimato...</td>\n",
       "    </tr>\n",
       "    <tr>\n",
       "      <th>3</th>\n",
       "      <td>0.810152</td>\n",
       "      <td>0.001361</td>\n",
       "      <td>{'estimator__C': 30.229530398020948, 'estimato...</td>\n",
       "    </tr>\n",
       "    <tr>\n",
       "      <th>4</th>\n",
       "      <td>0.806557</td>\n",
       "      <td>0.002161</td>\n",
       "      <td>{'estimator__C': 68.61484395427657, 'estimator...</td>\n",
       "    </tr>\n",
       "    <tr>\n",
       "      <th>5</th>\n",
       "      <td>0.812717</td>\n",
       "      <td>0.001570</td>\n",
       "      <td>{'estimator__C': 54.20638263758478, 'estimator...</td>\n",
       "    </tr>\n",
       "    <tr>\n",
       "      <th>6</th>\n",
       "      <td>0.810152</td>\n",
       "      <td>0.002236</td>\n",
       "      <td>{'estimator__C': 65.67823192676748, 'estimator...</td>\n",
       "    </tr>\n",
       "    <tr>\n",
       "      <th>7</th>\n",
       "      <td>0.813044</td>\n",
       "      <td>0.001457</td>\n",
       "      <td>{'estimator__C': 15.380734308876926, 'estimato...</td>\n",
       "    </tr>\n",
       "    <tr>\n",
       "      <th>8</th>\n",
       "      <td>0.813069</td>\n",
       "      <td>0.001762</td>\n",
       "      <td>{'estimator__C': 32.2730405438815, 'estimator_...</td>\n",
       "    </tr>\n",
       "    <tr>\n",
       "      <th>9</th>\n",
       "      <td>0.812893</td>\n",
       "      <td>0.001743</td>\n",
       "      <td>{'estimator__C': 40.92117750287818, 'estimator...</td>\n",
       "    </tr>\n",
       "    <tr>\n",
       "      <th>10</th>\n",
       "      <td>0.804345</td>\n",
       "      <td>0.001757</td>\n",
       "      <td>{'estimator__C': 76.18256612003646, 'estimator...</td>\n",
       "    </tr>\n",
       "    <tr>\n",
       "      <th>11</th>\n",
       "      <td>0.808744</td>\n",
       "      <td>0.002110</td>\n",
       "      <td>{'estimator__C': 49.967927888524464, 'estimato...</td>\n",
       "    </tr>\n",
       "    <tr>\n",
       "      <th>12</th>\n",
       "      <td>0.812717</td>\n",
       "      <td>0.001546</td>\n",
       "      <td>{'estimator__C': 82.24914144464046, 'estimator...</td>\n",
       "    </tr>\n",
       "    <tr>\n",
       "      <th>13</th>\n",
       "      <td>0.811259</td>\n",
       "      <td>0.001718</td>\n",
       "      <td>{'estimator__C': 28.007686996254982, 'estimato...</td>\n",
       "    </tr>\n",
       "    <tr>\n",
       "      <th>14</th>\n",
       "      <td>0.812993</td>\n",
       "      <td>0.001353</td>\n",
       "      <td>{'estimator__C': 25.878598327950915, 'estimato...</td>\n",
       "    </tr>\n",
       "    <tr>\n",
       "      <th>15</th>\n",
       "      <td>0.811334</td>\n",
       "      <td>0.001996</td>\n",
       "      <td>{'estimator__C': 46.2774111861037, 'estimator_...</td>\n",
       "    </tr>\n",
       "    <tr>\n",
       "      <th>16</th>\n",
       "      <td>0.810002</td>\n",
       "      <td>0.002185</td>\n",
       "      <td>{'estimator__C': 37.05049180475229, 'estimator...</td>\n",
       "    </tr>\n",
       "    <tr>\n",
       "      <th>17</th>\n",
       "      <td>0.807789</td>\n",
       "      <td>0.001771</td>\n",
       "      <td>{'estimator__C': 58.56151209216849, 'estimator...</td>\n",
       "    </tr>\n",
       "    <tr>\n",
       "      <th>18</th>\n",
       "      <td>0.812289</td>\n",
       "      <td>0.001475</td>\n",
       "      <td>{'estimator__C': 30.560813597488952, 'estimato...</td>\n",
       "    </tr>\n",
       "    <tr>\n",
       "      <th>19</th>\n",
       "      <td>0.811611</td>\n",
       "      <td>0.002054</td>\n",
       "      <td>{'estimator__C': 68.35383960016722, 'estimator...</td>\n",
       "    </tr>\n",
       "  </tbody>\n",
       "</table>\n",
       "</div>"
      ],
      "text/plain": [
       "    mean_test_score  std_test_score  \\\n",
       "0          0.812893        0.001436   \n",
       "1          0.812365        0.001307   \n",
       "2          0.812365        0.001671   \n",
       "3          0.810152        0.001361   \n",
       "4          0.806557        0.002161   \n",
       "5          0.812717        0.001570   \n",
       "6          0.810152        0.002236   \n",
       "7          0.813044        0.001457   \n",
       "8          0.813069        0.001762   \n",
       "9          0.812893        0.001743   \n",
       "10         0.804345        0.001757   \n",
       "11         0.808744        0.002110   \n",
       "12         0.812717        0.001546   \n",
       "13         0.811259        0.001718   \n",
       "14         0.812993        0.001353   \n",
       "15         0.811334        0.001996   \n",
       "16         0.810002        0.002185   \n",
       "17         0.807789        0.001771   \n",
       "18         0.812289        0.001475   \n",
       "19         0.811611        0.002054   \n",
       "\n",
       "                                               params  \n",
       "0   {'estimator__C': 87.8869082415457, 'estimator_...  \n",
       "1   {'estimator__C': 79.63970410647498, 'estimator...  \n",
       "2   {'estimator__C': 14.795878848663708, 'estimato...  \n",
       "3   {'estimator__C': 30.229530398020948, 'estimato...  \n",
       "4   {'estimator__C': 68.61484395427657, 'estimator...  \n",
       "5   {'estimator__C': 54.20638263758478, 'estimator...  \n",
       "6   {'estimator__C': 65.67823192676748, 'estimator...  \n",
       "7   {'estimator__C': 15.380734308876926, 'estimato...  \n",
       "8   {'estimator__C': 32.2730405438815, 'estimator_...  \n",
       "9   {'estimator__C': 40.92117750287818, 'estimator...  \n",
       "10  {'estimator__C': 76.18256612003646, 'estimator...  \n",
       "11  {'estimator__C': 49.967927888524464, 'estimato...  \n",
       "12  {'estimator__C': 82.24914144464046, 'estimator...  \n",
       "13  {'estimator__C': 28.007686996254982, 'estimato...  \n",
       "14  {'estimator__C': 25.878598327950915, 'estimato...  \n",
       "15  {'estimator__C': 46.2774111861037, 'estimator_...  \n",
       "16  {'estimator__C': 37.05049180475229, 'estimator...  \n",
       "17  {'estimator__C': 58.56151209216849, 'estimator...  \n",
       "18  {'estimator__C': 30.560813597488952, 'estimato...  \n",
       "19  {'estimator__C': 68.35383960016722, 'estimator...  "
      ]
     },
     "execution_count": 9,
     "metadata": {},
     "output_type": "execute_result"
    }
   ],
   "source": [
    "pd.DataFrame(rdgrid_search.cv_results_)[['mean_test_score', 'std_test_score', 'params']]"
   ]
  },
  {
   "cell_type": "code",
   "execution_count": 11,
   "metadata": {},
   "outputs": [
    {
     "name": "stdout",
     "output_type": "stream",
     "text": [
      "0.813068838940011\n",
      "{'estimator__C': 32.2730405438815, 'estimator__gamma': 1.630826177467243}\n"
     ]
    }
   ],
   "source": [
    "print(rdgrid_search.best_score_)\n",
    "print(rdgrid_search.best_params_)"
   ]
  },
  {
   "cell_type": "code",
   "execution_count": null,
   "metadata": {
    "scrolled": true
   },
   "outputs": [],
   "source": [
    "df=pd.DataFrame(grid_search.cv_results_)[['mean_test_score', 'std_test_score', 'params']]\n",
    "print(grid_search.best_score_)\n",
    "print(grid_search.best_params_)\n",
    "df.head(10)"
   ]
  },
  {
   "cell_type": "code",
   "execution_count": null,
   "metadata": {},
   "outputs": [],
   "source": [
    "print(grid_search.cv_results_['params'][0])\n",
    "print(grid_search.cv_results_['mean_test_score'][0])"
   ]
  },
  {
   "cell_type": "code",
   "execution_count": null,
   "metadata": {},
   "outputs": [],
   "source": [
    "grid_mean_scores = grid_search.cv_results_['mean_test_score']\n",
    "plt.plot([1, 10, 50, 100, 200, 500 ], grid_mean_scores)\n",
    "plt.xlabel('Value of C')\n",
    "plt.ylabel('Cross-Validated Accuracy')"
   ]
  },
  {
   "cell_type": "code",
   "execution_count": null,
   "metadata": {},
   "outputs": [],
   "source": [
    "%%time\n",
    "model.fit(X,y)"
   ]
  },
  {
   "cell_type": "markdown",
   "metadata": {},
   "source": [
    "# Predictions "
   ]
  },
  {
   "cell_type": "code",
   "execution_count": null,
   "metadata": {},
   "outputs": [],
   "source": [
    "%%time\n",
    "print (\"Predict on test data ... \")\n",
    "y_test = model.predict(X_test)\n",
    "y_pred = lb.inverse_transform(y_test)"
   ]
  },
  {
   "cell_type": "markdown",
   "metadata": {},
   "source": [
    "# Submission"
   ]
  },
  {
   "cell_type": "code",
   "execution_count": null,
   "metadata": {},
   "outputs": [],
   "source": [
    "print (\"Generate Submission File ... \")\n",
    "test_id = [doc['id'] for doc in test]\n",
    "sub = pd.DataFrame({'id': test_id, 'cuisine': y_pred}, columns=['id', 'cuisine'])\n",
    "sub.to_csv('svm_output.csv', index=False)"
   ]
  },
  {
   "cell_type": "code",
   "execution_count": null,
   "metadata": {},
   "outputs": [],
   "source": []
  }
 ],
 "metadata": {
  "kernelspec": {
   "display_name": "Python 3",
   "language": "python",
   "name": "python3"
  },
  "language_info": {
   "codemirror_mode": {
    "name": "ipython",
    "version": 3
   },
   "file_extension": ".py",
   "mimetype": "text/x-python",
   "name": "python",
   "nbconvert_exporter": "python",
   "pygments_lexer": "ipython3",
   "version": "3.6.5"
  }
 },
 "nbformat": 4,
 "nbformat_minor": 2
}
